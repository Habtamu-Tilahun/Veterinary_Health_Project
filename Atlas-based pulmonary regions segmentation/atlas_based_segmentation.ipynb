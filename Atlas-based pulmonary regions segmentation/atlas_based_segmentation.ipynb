{
 "cells": [
  {
   "cell_type": "code",
   "execution_count": 1,
   "metadata": {},
   "outputs": [],
   "source": [
    "import cv2\n",
    "import numpy as np\n",
    "import os\n",
    "import SimpleITK as sitk"
   ]
  },
  {
   "cell_type": "markdown",
   "metadata": {},
   "source": [
    "Convert the labels into binary image"
   ]
  },
  {
   "cell_type": "code",
   "execution_count": null,
   "metadata": {},
   "outputs": [],
   "source": [
    "rgb_folder_path = 'registration/rgb'\n",
    "binary_folder_path = 'registration/binary'\n",
    "files = os.listdir(rgb_folder_path)\n",
    "\n",
    "# Loop through each file\n",
    "for file_name in files:\n",
    "    file_path = os.path.join(rgb_folder_path, file_name)\n",
    "    if file_name.lower().endswith(('.png')):\n",
    "        img = cv2.imread(file_path)\n",
    "        gray_img = cv2.cvtColor(img, cv2.COLOR_BGR2GRAY)\n",
    "        _, binary_image = cv2.threshold(gray_img, 1, 255, cv2.THRESH_BINARY)\n",
    "\n",
    "        # Save the binary image with a new name\n",
    "        binary_file_name = f'binary_{file_name}'\n",
    "        binary_file_path = os.path.join(binary_folder_path, binary_file_name)\n",
    "        cv2.imwrite(binary_file_path, binary_image)\n",
    "\n",
    "        print(f'Processed: {file_name}, Binary image saved as: {binary_file_name}')"
   ]
  },
  {
   "cell_type": "markdown",
   "metadata": {},
   "source": [
    "Registration"
   ]
  },
  {
   "cell_type": "code",
   "execution_count": null,
   "metadata": {},
   "outputs": [],
   "source": [
    "parameter_map_affine = sitk.ReadParameterFile('registration/parameters/Affine_bin.txt')\n",
    "moving_img = sitk.ReadImage('registration/binary/binary_atlas_six_labels.png')\n",
    "binary_folder_path = 'registration/binary'\n",
    "binary_files = os.listdir(binary_folder_path)\n",
    "\n",
    "# Loop through each file\n",
    "for file_name in binary_files:\n",
    "    file_path = os.path.join(binary_folder_path, file_name)\n",
    "    if file_name.lower().endswith(('.png')) and \"binary_atlas_label\" not in file_name.lower() and \"binary_atlas_six_labels\" not in file_name.lower():\n",
    "        fixed_img = sitk.ReadImage(file_path)\n",
    "        elastixImageFilter = sitk.ElastixImageFilter()\n",
    "        elastixImageFilter.SetFixedImage(fixed_img)\n",
    "        elastixImageFilter.SetMovingImage(moving_img)\n",
    "        elastixImageFilter.SetOutputDirectory('registration/registration_output')\n",
    "\n",
    "        # Affine registration\n",
    "        elastixImageFilter.SetParameterMap(parameter_map_affine)\n",
    "        elastixImageFilter.Execute()\n",
    "        resultImage_affine = elastixImageFilter.GetResultImage()\n",
    "        transformParameterMap_affine = elastixImageFilter.GetTransformParameterMap()[0]\n",
    "\n",
    "        # Cast the pixel types to unsigned char\n",
    "        resultImage_affine = sitk.Cast(resultImage_affine, sitk.sitkUInt8)\n",
    "\n",
    "        parts = file_name.split(\"_\")\n",
    "        affine_registered_image_name = f\"{parts[1]}_{parts[2]}_affine_reg.png\"\n",
    "        affine_transform_parameter_name = f\"{parts[1]}_{parts[2]}_transform_affine.txt\"\n",
    "\n",
    "        # Save results for affine registration\n",
    "        sitk.WriteImage(resultImage_affine, os.path.join('registration/moving_registered', affine_registered_image_name))\n",
    "        sitk.WriteParameterFile(transformParameterMap_affine, os.path.join('registration/transform_parameters', affine_transform_parameter_name))"
   ]
  },
  {
   "cell_type": "markdown",
   "metadata": {},
   "source": [
    "Overlay the registered label on the image"
   ]
  },
  {
   "cell_type": "code",
   "execution_count": null,
   "metadata": {},
   "outputs": [],
   "source": [
    "binary_folder_path = 'registration/moving_registered'\n",
    "binary_files = os.listdir(binary_folder_path)\n",
    "gray_folder_path = 'registration/grayscale'\n",
    "overlay_folder_path = 'registration/overlayed_thorax'\n",
    "\n",
    "# Loop through each file\n",
    "for file_name in binary_files:\n",
    "    file_path = os.path.join(binary_folder_path, file_name)\n",
    "    if file_name.lower().endswith(('.png')):\n",
    "        parts = file_name.split(\"_\")\n",
    "        grayscale_image_path = f\"{gray_folder_path}/{parts[0]}_{parts[1]}.png\"\n",
    "\n",
    "        # Read images\n",
    "        gray_image = cv2.imread(grayscale_image_path)\n",
    "        binary_mask = cv2.imread(file_path, cv2.IMREAD_GRAYSCALE)\n",
    "\n",
    "        mask_rgba = cv2.cvtColor(binary_mask, cv2.COLOR_GRAY2BGRA)\n",
    "\n",
    "        # Set alpha channel values\n",
    "        alpha_factor = 0.3\n",
    "        mask_rgba[:, :, 3] = binary_mask * alpha_factor\n",
    "\n",
    "        # Convert grayscale image to have 3 channels (RGB)\n",
    "        gray_image_rgb = cv2.cvtColor(gray_image, cv2.COLOR_BGR2BGRA)\n",
    "\n",
    "        # Overlay the binary mask region on the grayscale image\n",
    "        result = cv2.addWeighted(gray_image_rgb, 1, mask_rgba, 0.5, 0)\n",
    "\n",
    "        # Save the overlayed image with a new name\n",
    "        overlay_file_name = f\"{parts[0]}_{parts[1]}_overlayed_thorax.png\"\n",
    "        overlay_file_path = os.path.join(overlay_folder_path, overlay_file_name)\n",
    "        cv2.imwrite(overlay_file_path, result)\n",
    "\n",
    "        print(f'Processed: {file_name}, overlayed image saved as: {overlay_file_name}')"
   ]
  },
  {
   "cell_type": "markdown",
   "metadata": {},
   "source": [
    "Transform lung lobes"
   ]
  },
  {
   "cell_type": "code",
   "execution_count": null,
   "metadata": {},
   "outputs": [],
   "source": [
    "pulmonary_regions_atlas_path = 'registration/rgb/atlas_six_labels.png'\n",
    "moving_image = sitk.ReadImage(pulmonary_regions_atlas_path, sitk.sitkFloat32)\n",
    "transform_parameters_path = 'registration/transform_parameters'\n",
    "transform_parameter_files = os.listdir(transform_parameters_path)\n",
    "\n",
    "# Loop through each transform parameter file\n",
    "for file_name in transform_parameter_files:\n",
    "    file_path = os.path.join(transform_parameters_path, file_name)\n",
    "    if file_name.lower().endswith(('.txt')):\n",
    "        transformParameterMap = sitk.ReadParameterFile(file_path)\n",
    "        transformixImageFilter = sitk.TransformixImageFilter()\n",
    "        transformixImageFilter.SetTransformParameterMap(transformParameterMap)\n",
    "        transformixImageFilter.SetMovingImage(moving_image)\n",
    "        transformixImageFilter.Execute()\n",
    "        result_image_transformed = transformixImageFilter.GetResultImage()\n",
    "        result_image_transformed = sitk.Cast(result_image_transformed, sitk.sitkUInt8)\n",
    "        parts = file_name.split(\"_\")\n",
    "        transformed_image_name = f\"{parts[0]}_{parts[1]}_transformed.png\"\n",
    "        sitk.WriteImage(result_image_transformed, os.path.join('registration/transformed_regions', transformed_image_name))"
   ]
  },
  {
   "cell_type": "markdown",
   "metadata": {},
   "source": [
    "Overlay transformed regions on the image"
   ]
  },
  {
   "cell_type": "code",
   "execution_count": null,
   "metadata": {},
   "outputs": [],
   "source": [
    "transformed_images_folder = 'registration/transformed_regions'\n",
    "transformed_images = os.listdir(transformed_images_folder)\n",
    "gray_folder_path = 'registration/grayscale'\n",
    "overlay_folder_path = 'registration/overlayed_regions'\n",
    "\n",
    "# Loop through each file\n",
    "for file_name in transformed_images:\n",
    "    file_path = os.path.join(transformed_images_folder, file_name)\n",
    "    if file_name.lower().endswith(('.png')):\n",
    "        parts = file_name.split(\"_\")\n",
    "        grayscale_image_path = f\"{gray_folder_path}/{parts[0]}_{parts[1]}.png\"\n",
    "\n",
    "        # Read images\n",
    "        gray_image = cv2.imread(grayscale_image_path)\n",
    "        transformed_mask = cv2.imread(file_path, cv2.IMREAD_GRAYSCALE)\n",
    "\n",
    "        mask_rgba = cv2.cvtColor(transformed_mask, cv2.COLOR_GRAY2BGRA)\n",
    "\n",
    "        # Set alpha channel values\n",
    "        alpha_factor = 1.0\n",
    "        mask_rgba[:, :, 3] = transformed_mask * alpha_factor\n",
    "\n",
    "        # Convert grayscale image to have 3 channels (RGB)\n",
    "        gray_image_rgb = cv2.cvtColor(gray_image, cv2.COLOR_BGR2BGRA)\n",
    "\n",
    "        # Overlay the binary mask region on the grayscale image\n",
    "        result = cv2.addWeighted(gray_image_rgb, 1, mask_rgba, 0.5, 0)\n",
    "\n",
    "        # Save the overlayed image with a new name\n",
    "        overlay_file_name = f\"{parts[0]}_{parts[1]}_overlayed_regions.png\"\n",
    "        overlay_file_path = os.path.join(overlay_folder_path, overlay_file_name)\n",
    "        cv2.imwrite(overlay_file_path, result)\n",
    "\n",
    "        print(f'Processed: {file_name}, overlayed image saved as: {overlay_file_name}')"
   ]
  },
  {
   "cell_type": "markdown",
   "metadata": {},
   "source": [
    "Check unique intensity values on the transformed image"
   ]
  },
  {
   "cell_type": "code",
   "execution_count": 9,
   "metadata": {},
   "outputs": [
    {
     "name": "stdout",
     "output_type": "stream",
     "text": [
      "(2155, 1924, 3)\n",
      "(2948, 1985, 3)\n",
      "Unique pixel values in atlas:\n",
      "[  0  15  38  53  75  90 113]\n",
      "\n",
      "Unique pixel values in transformed image:\n",
      "[  0   9  27  36  91 100 118]\n"
     ]
    }
   ],
   "source": [
    "atlas = cv2.imread('registration/rgb/atlas_six_labels.png')\n",
    "transformed_image = cv2.imread('registration/transformed_regions/009121_I0000831_transformed.png')\n",
    "\n",
    "# Check image shape\n",
    "print(atlas.shape)\n",
    "print(transformed_image.shape)\n",
    "\n",
    "# Convert the images to grayscale\n",
    "gray_atlas = cv2.cvtColor(atlas, cv2.COLOR_BGR2GRAY)\n",
    "gray_transformed_image = cv2.cvtColor(transformed_image, cv2.COLOR_BGR2GRAY)\n",
    "\n",
    "# Flatten the images to 1D arrays\n",
    "flatten_atlas = gray_atlas.flatten()\n",
    "flatten_transformed_image = gray_transformed_image.flatten()\n",
    "\n",
    "# Find unique pixel values\n",
    "unique_values_atlas = np.unique(flatten_atlas)\n",
    "unique_values_transformed_image = np.unique(flatten_transformed_image)\n",
    "\n",
    "# Display unique pixel values\n",
    "print(\"Unique pixel values in atlas:\")\n",
    "print(unique_values_atlas)\n",
    "\n",
    "print(\"\\nUnique pixel values in transformed image:\")\n",
    "print(unique_values_transformed_image)\n"
   ]
  }
 ],
 "metadata": {
  "kernelspec": {
   "display_name": "habtamukernel",
   "language": "python",
   "name": "habtamukernel"
  },
  "language_info": {
   "codemirror_mode": {
    "name": "ipython",
    "version": 3
   },
   "file_extension": ".py",
   "mimetype": "text/x-python",
   "name": "python",
   "nbconvert_exporter": "python",
   "pygments_lexer": "ipython3",
   "version": "3.10.9"
  }
 },
 "nbformat": 4,
 "nbformat_minor": 2
}
