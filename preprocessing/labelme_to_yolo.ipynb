{
 "cells": [
  {
   "cell_type": "code",
   "execution_count": 1,
   "metadata": {},
   "outputs": [],
   "source": [
    "import json\n",
    "import os"
   ]
  },
  {
   "cell_type": "code",
   "execution_count": 2,
   "metadata": {},
   "outputs": [],
   "source": [
    "dataset_dir = \"Annotations\""
   ]
  },
  {
   "cell_type": "code",
   "execution_count": 14,
   "metadata": {},
   "outputs": [],
   "source": [
    "def labelme_to_yolo(labelme_json_path, output_file_path):\n",
    "    with open(labelme_json_path, 'r') as f:\n",
    "        data = json.load(f)\n",
    "    \n",
    "    # Extract image width and height from JSON file\n",
    "    image_width = data['imageWidth']\n",
    "    image_height = data['imageHeight']\n",
    "    \n",
    "    yolo_annotations = []\n",
    "\n",
    "    for shape in data['shapes']:\n",
    "        label = shape['label']\n",
    "        if label == \"thorax\":\n",
    "            category_id = 0  # Assign a unique ID for the \"thorax\" class\n",
    "        xmin, ymin = shape['points'][0]\n",
    "        xmax, ymax = shape['points'][1]\n",
    "\n",
    "        # Convert bounding box coordinates to YOLO format (normalized)\n",
    "        x_center = (xmin + xmax) / (2 * image_width)\n",
    "        y_center = (ymin + ymax) / (2 * image_height)\n",
    "        width = (xmax - xmin) / image_width\n",
    "        height = (ymax - ymin) / image_height\n",
    "\n",
    "        # Append YOLO annotation to the list\n",
    "        yolo_annotations.append((category_id, x_center, y_center, width, height))\n",
    "\n",
    "    # Save annotations to file\n",
    "    with open(output_file_path, 'w') as f:\n",
    "        for annotation in yolo_annotations:\n",
    "            label, x_center, y_center, width, height = annotation\n",
    "            f.write(f\"{label} {x_center} {y_center} {width} {height}\\n\")"
   ]
  },
  {
   "cell_type": "code",
   "execution_count": 15,
   "metadata": {},
   "outputs": [],
   "source": [
    "for d in [\"train/labelme_labels\", \"val/labelme_labels\"]:\n",
    "    for idx, json_file in enumerate(os.listdir(os.path.join(dataset_dir, d))):\n",
    "        labelme_json_path = os.path.join(dataset_dir, d, json_file)\n",
    "       \n",
    "        # Split the directory and file name\n",
    "        directory, filename = os.path.split(labelme_json_path)\n",
    "        \n",
    "        # Replace .json extension with .txt\n",
    "        base_name, _ = os.path.splitext(filename)\n",
    "        output_file_path = os.path.join(directory.replace(\"labelme_labels\", \"labels\"), base_name + '.txt')\n",
    "\n",
    "        labelme_to_yolo(labelme_json_path, output_file_path)"
   ]
  }
 ],
 "metadata": {
  "kernelspec": {
   "display_name": "habtamukernel",
   "language": "python",
   "name": "habtamukernel"
  },
  "language_info": {
   "codemirror_mode": {
    "name": "ipython",
    "version": 3
   },
   "file_extension": ".py",
   "mimetype": "text/x-python",
   "name": "python",
   "nbconvert_exporter": "python",
   "pygments_lexer": "ipython3",
   "version": "3.10.9"
  }
 },
 "nbformat": 4,
 "nbformat_minor": 2
}
