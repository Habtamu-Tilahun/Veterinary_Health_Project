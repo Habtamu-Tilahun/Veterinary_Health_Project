{
 "cells": [
  {
   "cell_type": "code",
   "execution_count": 10,
   "metadata": {},
   "outputs": [],
   "source": [
    "import os\n",
    "import cv2\n",
    "import numpy as np\n",
    "import pydicom\n",
    "from pydicom import dcmread\n",
    "from pydicom.pixel_data_handlers.util import apply_voi_lut\n",
    "from pathlib import Path\n",
    "import re # regular expression"
   ]
  },
  {
   "cell_type": "markdown",
   "metadata": {},
   "source": [
    "DICOM Path"
   ]
  },
  {
   "cell_type": "code",
   "execution_count": 11,
   "metadata": {},
   "outputs": [
    {
     "name": "stdout",
     "output_type": "stream",
     "text": [
      "/mnt/cafetera/substrate/KO_bluecare/DICOMDIR\n"
     ]
    }
   ],
   "source": [
    "data_path ='/mnt/cafetera/substrate/KO_bluecare' # path to the ok images from cullera (until Feb, 2024)\n",
    "dicom_dir = str(data_path+'/DICOMDIR')\n",
    "print(dicom_dir)"
   ]
  },
  {
   "cell_type": "markdown",
   "metadata": {},
   "source": [
    "Output PNG Path"
   ]
  },
  {
   "cell_type": "code",
   "execution_count": 12,
   "metadata": {},
   "outputs": [],
   "source": [
    "output_path = '/home/habtamu/data/substrate/KO_bluecare'\n",
    "\n",
    "if not os.path.exists(output_path):\n",
    "    os.makedirs(output_path)"
   ]
  },
  {
   "cell_type": "code",
   "execution_count": 14,
   "metadata": {},
   "outputs": [],
   "source": [
    "#resize_img= 0.5 # resize image\n",
    "threshold_img = False # threshold and crop\n",
    "\n",
    "# the hospital which acquired the images (b for Bluecare, c for Cullera)\n",
    "hospital = 'b'"
   ]
  },
  {
   "cell_type": "markdown",
   "metadata": {},
   "source": [
    "Read DICOM Directory"
   ]
  },
  {
   "cell_type": "code",
   "execution_count": 15,
   "metadata": {},
   "outputs": [
    {
     "name": "stdout",
     "output_type": "stream",
     "text": [
      "Root directory: /mnt/cafetera/substrate/KO_bluecare\n",
      "\n"
     ]
    }
   ],
   "source": [
    "ds = pydicom.dcmread(dicom_dir)\n",
    "root_dir = Path(ds.filename).resolve().parent\n",
    "print(f'Root directory: {root_dir}\\n')"
   ]
  },
  {
   "cell_type": "markdown",
   "metadata": {},
   "source": [
    "Check wether the input scan intensities are inverted or not based on DICOM information"
   ]
  },
  {
   "cell_type": "code",
   "execution_count": 16,
   "metadata": {},
   "outputs": [],
   "source": [
    "def check_dcm_inversion(dcm_in):\n",
    "    \"\"\"\n",
    "    - PresentationLUTShape == 'INVERTED'\n",
    "    - PhotometricIntepretation = 'MONOCHROME'\n",
    "    \"\"\"\n",
    "    inverted = False\n",
    "\n",
    "    try:\n",
    "        if dcm_in.PresentationLUTShape == 'INVERSE':\n",
    "            inverted = True\n",
    "    except:\n",
    "        pass\n",
    "\n",
    "    try:\n",
    "        if dcm_in.PhotometricInterpretation == 'MONOCHROME1':\n",
    "            inverted = True\n",
    "    except:\n",
    "        pass\n",
    "\n",
    "    return inverted"
   ]
  },
  {
   "cell_type": "markdown",
   "metadata": {},
   "source": [
    "Extracts first numbers of a string. Needs regular expression (re)"
   ]
  },
  {
   "cell_type": "code",
   "execution_count": 17,
   "metadata": {},
   "outputs": [],
   "source": [
    "# Original: 008989-YARA-003459\n",
    "# Extracted: 008989\n",
    "def extract_first_number_token(input_string):\n",
    "    # Use regular expression to find the first token of numbers\n",
    "    match = re.search(r'\\d+', input_string)\n",
    "    \n",
    "    if match:\n",
    "        return match.group()\n",
    "    else:\n",
    "        return None"
   ]
  },
  {
   "cell_type": "markdown",
   "metadata": {},
   "source": [
    "Threshold and crop images"
   ]
  },
  {
   "cell_type": "code",
   "execution_count": 18,
   "metadata": {},
   "outputs": [],
   "source": [
    "def deal_DICOM(filename, folder):\n",
    "    found = False\n",
    "    dcm_img = pydicom.dcmread(str(filename))\n",
    "    \n",
    "    # print all the DICOM tags\n",
    "    for element in dcm_img:\n",
    "        print(element)\n",
    "    \n",
    "    print ('->',str(filename), 'PatientID ', dcm_img.PatientID, 'Modality', dcm_img.Modality)\n",
    "    \n",
    "    if 'Image Storage' in dcm_img.SOPClassUID.name:\n",
    "        img = dcm_img.pixel_array\n",
    "        if 'WindowWidth' in dcm_img:\n",
    "            print('Dataset has windowing')\n",
    "        img = apply_voi_lut(dcm_img.pixel_array, dcm_img)\n",
    "        \n",
    "        # Convert to uint\n",
    "        img = ((img / img.max()) * 255).astype('uint8')\n",
    "\n",
    "        # Fix if the image intensities are inverted\n",
    "        if check_dcm_inversion(dcm_img):\n",
    "            img = ~img\n",
    "\n",
    "        # Extract first numbers of the PatientID\n",
    "        patient_id = extract_first_number_token(dcm_img.PatientID)\n",
    "        print('Patient ID:', patient_id)\n",
    "        print('Filename:', filename)\n",
    "\n",
    "        if patient_id is None: \n",
    "            #patient_id = filename\n",
    "            return found\n",
    "\n",
    "        # Filename for images from Cullera\n",
    "        out_fn = output_path+'/'+folder+'/'+ patient_id + '_' + os.path.basename(filename)+'_'+ hospital +'.png'\n",
    "        print (out_fn)\n",
    "        \n",
    "        # resize image\n",
    "        #img = cv2.resize(img, (0,0), fx=resize_img, fy=resize_img)\n",
    "\n",
    "        # threshold and crop the image\n",
    "        if (threshold_img):      \n",
    "            threshold_value = 100\n",
    "            # Apply the threshold to the image\n",
    "            img_th = np.where(img > threshold_value, 255, 0).astype(np.uint8)\n",
    "            img_th = ~img_th\n",
    "\n",
    "            # now cut image. \n",
    "            # removing spurious pixels at the edges.\n",
    "            ival = 10 \n",
    "            img_th = img_th[ival:-ival, ival:-ival]\n",
    "\n",
    "            contours, _ = cv2.findContours(img_th, cv2.RETR_EXTERNAL, cv2.CHAIN_APPROX_SIMPLE)\n",
    "\n",
    "            # Initialize variables to store the coordinates of the outer bounding box\n",
    "            x_min = float('inf')\n",
    "            y_min = float('inf')\n",
    "            x_max = -1\n",
    "            y_max = -1\n",
    "\n",
    "            # Iterate through the contours and find the coordinates of the outer bounding box\n",
    "            for contour in contours:\n",
    "                x, y, w, h = cv2.boundingRect(contour)\n",
    "\n",
    "                # Update the coordinates of the outer bounding box\n",
    "                x_min = min(x_min, x)\n",
    "                y_min = min(y_min, y)\n",
    "                x_max = max(x_max, x + w)\n",
    "                y_max = max(y_max, y + h)\n",
    "\n",
    "            print(y_min, y_max, x_min,x_max)\n",
    "            img = img[y_min+ival:y_max-ival, x_min+ival:x_max-ival]\n",
    "\n",
    "        # save image\n",
    "        cv2.imwrite(out_fn,img)   \n",
    "        found = True       \n",
    "    return found "
   ]
  },
  {
   "cell_type": "markdown",
   "metadata": {},
   "source": [
    "Patient -> Study -> Series -> Images"
   ]
  },
  {
   "cell_type": "code",
   "execution_count": null,
   "metadata": {},
   "outputs": [],
   "source": [
    "# Iterate through the PATIENT records\n",
    "for patient in ds.patient_records:\n",
    "    print(\n",
    "        f\"PATIENT: PatientID={patient.PatientID}, \"\n",
    "        f\"PatientName={patient.PatientName}\"\n",
    "    )\n",
    "\n",
    "    # Find all the STUDY records for the patient\n",
    "    studies = [\n",
    "        ii for ii in patient.children if ii.DirectoryRecordType == \"STUDY\"\n",
    "    ]\n",
    "    for study in studies:\n",
    "        descr = study.StudyDescription or \"(no value available)\"\n",
    "        print(\n",
    "            f\"{'  ' * 1}STUDY: StudyID={study.StudyID}, \"\n",
    "            f\"StudyDate={study.StudyDate}, StudyDescription={descr}\"\n",
    "        )\n",
    "\n",
    "        # Find all the SERIES records in the study\n",
    "        all_series = [\n",
    "            ii for ii in study.children if ii.DirectoryRecordType == \"SERIES\"\n",
    "        ]\n",
    "        for series in all_series:\n",
    "            # Find all the IMAGE records in the series\n",
    "            images = [\n",
    "                ii for ii in series.children\n",
    "                if ii.DirectoryRecordType == \"IMAGE\"\n",
    "            ]\n",
    "            plural = ('', 's')[len(images) > 1]\n",
    "\n",
    "            descr = getattr(\n",
    "                series, \"SeriesDescription\", \"(no value available)\"\n",
    "            )\n",
    "            print(\n",
    "                f\"{'  ' * 2}SERIES: SeriesNumber={series.SeriesNumber}, \"\n",
    "                f\"Modality={series.Modality}, SeriesDescription={descr} - \"\n",
    "                f\"{len(images)} SOP Instance{plural}\"\n",
    "            )\n",
    "\n",
    "            # Get the absolute file path to each instance\n",
    "            # Each IMAGE contains a relative file path to the root directory\n",
    "            elems = [ii[\"ReferencedFileID\"] for ii in images]\n",
    "            \n",
    "            # Make sure the relative file path is always a list of str\n",
    "            paths = [[ee.value] if ee.VM == 1 else ee.value for ee in elems]\n",
    "            paths = [Path(*p) for p in paths]\n",
    "\n",
    "            # List the instance file paths\n",
    "            for p in paths:\n",
    "                print(f\"{'  ' * 3}IMAGE: Path={os.fspath(p)}\")\n",
    "                deal_DICOM(Path(root_dir) / p , 'prova')"
   ]
  }
 ],
 "metadata": {
  "kernelspec": {
   "display_name": "habtamukernel",
   "language": "python",
   "name": "habtamukernel"
  },
  "language_info": {
   "codemirror_mode": {
    "name": "ipython",
    "version": 3
   },
   "file_extension": ".py",
   "mimetype": "text/x-python",
   "name": "python",
   "nbconvert_exporter": "python",
   "pygments_lexer": "ipython3",
   "version": "3.10.9"
  }
 },
 "nbformat": 4,
 "nbformat_minor": 2
}
