{
 "cells": [
  {
   "cell_type": "code",
   "execution_count": 1,
   "metadata": {},
   "outputs": [],
   "source": [
    "import pandas as pd\n",
    "import shutil\n",
    "import os\n",
    "from sklearn.model_selection import train_test_split"
   ]
  },
  {
   "cell_type": "code",
   "execution_count": 2,
   "metadata": {},
   "outputs": [],
   "source": [
    "folder_path = '/home/habtamu/Substrate/'\n",
    "img_dir = '/home/habtamu/data/substrate/OK_annotations_png/'"
   ]
  },
  {
   "cell_type": "markdown",
   "metadata": {},
   "source": [
    "Split data to the training and validation set"
   ]
  },
  {
   "cell_type": "code",
   "execution_count": 14,
   "metadata": {},
   "outputs": [],
   "source": [
    "def data_split(img_dir):\n",
    "    csv_file = os.path.join(folder_path, \"OK_annotations_GT.csv\")\n",
    "    df = pd.read_csv(csv_file)\n",
    "    print ('Total number of images:', len(df))\n",
    "    df['patient id'] = df['filename'].str.split('_').str[0]\n",
    "    unique_patients = df['patient id'].nunique()\n",
    "    print('Total number of unique patients:', unique_patients)\n",
    "\n",
    "    duplicated_patients = df[df['patient id'].duplicated() == True]\n",
    "    print('Patients with more than one image:', len(duplicated_patients))\n",
    "    rows_with_duplicated_patients = df[df['patient id'].duplicated(keep=False)]\n",
    "    print('Total number of images of duplicated patients:', len(rows_with_duplicated_patients))\n",
    "\n",
    "    count = df['patient id'].value_counts() # Count the frequency of values in the column 'patient id'\n",
    "    # Select only the rows where the count is equal to 1\n",
    "    patients_with_single_image = df[df['patient id'].isin(count[count == 1].index)] \n",
    "    print('Patients with only one image:', len(patients_with_single_image))\n",
    "\n",
    "    # Since 14 images will be added to the train_set, we set the percentage of the val_set to 21.6%\n",
    "    training_patients, validation_patients = train_test_split(patients_with_single_image, test_size=0.216)\n",
    "    print('Number of patients in the training set:', len(training_patients))\n",
    "    print('Number of patients in the validation set:', len(validation_patients))\n",
    "\n",
    "    frames = [training_patients, rows_with_duplicated_patients]\n",
    "    total_train_set = pd.concat(frames)\n",
    "    print(\"Total number of images in the training set:\", len(total_train_set))\n",
    "\n",
    "    total_train_set.to_csv(\"training_set.csv\",index=False)\n",
    "    validation_patients.to_csv(\"validation_set.csv\", index=False)"
   ]
  },
  {
   "cell_type": "code",
   "execution_count": 15,
   "metadata": {},
   "outputs": [
    {
     "name": "stdout",
     "output_type": "stream",
     "text": [
      "Total number of images: 199\n",
      "Total number of unique patients: 192\n",
      "Patients with more than one image: 7\n",
      "Total number of images of duplicated patients: 14\n",
      "Patients with only one image: 185\n",
      "Number of patients in the training set: 145\n",
      "Number of patients in the validation set: 40\n",
      "Total number of images in the training set: 159\n"
     ]
    }
   ],
   "source": [
    "data_split(img_dir)"
   ]
  },
  {
   "cell_type": "markdown",
   "metadata": {},
   "source": [
    "Check if the split is patientwise"
   ]
  },
  {
   "cell_type": "code",
   "execution_count": 19,
   "metadata": {},
   "outputs": [],
   "source": [
    "df_train = pd.read_csv(\"training_set.csv\")\n",
    "df_val = pd.read_csv(\"validation_set.csv\")\n",
    "\n",
    "n=0\n",
    "for idx_val, row_val in df_val.iterrows():\n",
    "    for idx_train, row_train in df_train.iterrows():\n",
    "        if row_val['patient id'] == row_train['patient id']:\n",
    "            n = n + 1"
   ]
  },
  {
   "cell_type": "code",
   "execution_count": 20,
   "metadata": {},
   "outputs": [
    {
     "name": "stdout",
     "output_type": "stream",
     "text": [
      "0\n"
     ]
    }
   ],
   "source": [
    "print(n)"
   ]
  },
  {
   "cell_type": "markdown",
   "metadata": {},
   "source": [
    "Copy training and validation set annotations to the separate directories"
   ]
  },
  {
   "cell_type": "code",
   "execution_count": null,
   "metadata": {},
   "outputs": [],
   "source": [
    "for idx, row in df_train.iterrows():\n",
    "    filename = row[\"filename\"]\n",
    "    new_file_name = os.path.join(\"/home/habtamu/Substrate/annotations\", filename.replace(\".png\", \".json\"))\n",
    "    shutil.copy(new_file_name, '/home/habtamu/Substrate/dataset_dir/train/')\n",
    "\n",
    "for idx, row in df_val.iterrows():\n",
    "    filename = row[\"filename\"]\n",
    "    new_file_name = os.path.join(\"/home/habtamu/Substrate/annotations\", filename.replace(\".png\", \".json\"))\n",
    "    shutil.copy(new_file_name, '/home/habtamu/Substrate/dataset_dir/val/')"
   ]
  }
 ],
 "metadata": {
  "kernelspec": {
   "display_name": "habtamukernel",
   "language": "python",
   "name": "habtamukernel"
  },
  "language_info": {
   "codemirror_mode": {
    "name": "ipython",
    "version": 3
   },
   "file_extension": ".py",
   "mimetype": "text/x-python",
   "name": "python",
   "nbconvert_exporter": "python",
   "pygments_lexer": "ipython3",
   "version": "3.10.9"
  }
 },
 "nbformat": 4,
 "nbformat_minor": 2
}
